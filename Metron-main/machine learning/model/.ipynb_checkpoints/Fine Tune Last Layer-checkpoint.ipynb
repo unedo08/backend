{
 "cells": [
  {
   "cell_type": "code",
   "execution_count": 1,
   "metadata": {},
   "outputs": [],
   "source": [
    "import numpy as np\n",
    "import keras\n",
    "from keras import applications\n",
    "from keras.models import load_model\n",
    "from keras.models import Sequential\n",
    "from keras.layers import Dense, Flatten, Dropout\n",
    "from keras import optimizers\n",
    "import keras.backend as K\n",
    "from keras.models import load_model"
   ]
  },
  {
   "cell_type": "code",
   "execution_count": 2,
   "metadata": {},
   "outputs": [],
   "source": []
  },
  {
   "cell_type": "code",
   "execution_count": 24,
   "metadata": {},
   "outputs": [],
   "source": [
    "x_train=np.load('dataset/x_train_np.npy')\n",
    "x_cv=np.load('dataset/x_cv_np.npy')\n",
    "y_train=np.load('dataset/y_train_np.npy')\n",
    "y_cv=np.load('dataset/y_cv_np.npy')"
   ]
  },
  {
   "cell_type": "code",
   "execution_count": 17,
   "metadata": {},
   "outputs": [],
   "source": [
    "x_test=np.load('dataset/x_test_np.npy', allow_pickle=True)\n",
    "y_test=np.load('dataset/y_test_np.npy')"
   ]
  },
  {
   "cell_type": "code",
   "execution_count": null,
   "metadata": {},
   "outputs": [],
   "source": []
  },
  {
   "cell_type": "code",
   "execution_count": 4,
   "metadata": {},
   "outputs": [],
   "source": [
    "class Custom_lr(keras.callbacks.Callback):\n",
    "\n",
    "    def on_train_begin(self, logs={}):\n",
    "        K.set_value(self.model.optimizer.lr, 0.001)\n",
    " \n",
    "    def on_epoch_begin(self, epoch, logs={}):\n",
    "        lr_present=K.get_value(self.model.optimizer.lr)\n",
    "        #print(epoch)\n",
    "        if (epoch%10==0) and epoch:\n",
    "            K.set_value(self.model.optimizer.lr, lr_present/((epoch)**0.5))\n",
    "            print(K.get_value(self.model.optimizer.lr))\n",
    "            print(lr_present/((epoch)**0.5))"
   ]
  },
  {
   "cell_type": "code",
   "execution_count": null,
   "metadata": {},
   "outputs": [],
   "source": []
  },
  {
   "cell_type": "markdown",
   "metadata": {},
   "source": [
    "VGG16 bottleneck"
   ]
  },
  {
   "cell_type": "code",
   "execution_count": 5,
   "metadata": {},
   "outputs": [
    {
     "name": "stdout",
     "output_type": "stream",
     "text": [
      "(2, 2, 512)\n"
     ]
    }
   ],
   "source": [
    "model = applications.VGG16(weights='imagenet', include_top=False)\n",
    "\n",
    "\n",
    "x_train_bottleneck = model.predict(x_train)\n",
    "x_cv_bottleneck = model.predict(x_cv)\n",
    "\n",
    "np.save('dataset/x_train_bottleneck.npy', x_train_bottleneck)\n",
    "np.save('dataset/x_cv_bottleneck.npy', x_cv_bottleneck)\n",
    "\n",
    "print(x_train_bottleneck[0].shape)"
   ]
  },
  {
   "cell_type": "code",
   "execution_count": 6,
   "metadata": {},
   "outputs": [
    {
     "data": {
      "text/plain": [
       "array([[[0.       , 0.       , 0.       , ..., 0.       , 0.       ,\n",
       "         0.       ],\n",
       "        [0.       , 0.       , 0.       , ..., 0.       , 1.2254674,\n",
       "         0.       ]],\n",
       "\n",
       "       [[0.       , 0.       , 0.       , ..., 0.       , 0.       ,\n",
       "         0.       ],\n",
       "        [0.       , 0.       , 0.       , ..., 0.       , 0.       ,\n",
       "         0.       ]]], dtype=float32)"
      ]
     },
     "execution_count": 6,
     "metadata": {},
     "output_type": "execute_result"
    }
   ],
   "source": [
    "x_train_bottleneck[0]"
   ]
  },
  {
   "cell_type": "code",
   "execution_count": 7,
   "metadata": {},
   "outputs": [],
   "source": [
    "x_train_bottleneck = np.load('dataset/x_train_bottleneck.npy')\n",
    "x_cv_bottleneck = np.load('dataset/x_cv_bottleneck.npy')"
   ]
  },
  {
   "cell_type": "code",
   "execution_count": 8,
   "metadata": {},
   "outputs": [
    {
     "data": {
      "text/plain": [
       "(2, 2, 512)"
      ]
     },
     "execution_count": 8,
     "metadata": {},
     "output_type": "execute_result"
    }
   ],
   "source": [
    "x_train_bottleneck.shape[1:]"
   ]
  },
  {
   "cell_type": "code",
   "execution_count": 6,
   "metadata": {},
   "outputs": [],
   "source": [
    "top_model=Sequential()\n",
    "top_model.add(Flatten(input_shape=x_train_bottleneck.shape[1:]))\n",
    "top_model.add(Dense(64, activation='relu'))\n",
    "top_model.add(Dropout(0.5))\n",
    "top_model.add(Dense(1, activation='sigmoid'))\n",
    "\n",
    "top_model.compile(optimizer='adam',\n",
    "              loss='binary_crossentropy',\n",
    "              metrics=['accuracy'])"
   ]
  },
  {
   "cell_type": "code",
   "execution_count": 7,
   "metadata": {},
   "outputs": [
    {
     "name": "stdout",
     "output_type": "stream",
     "text": [
      "Model: \"sequential\"\n",
      "_________________________________________________________________\n",
      "Layer (type)                 Output Shape              Param #   \n",
      "=================================================================\n",
      "flatten (Flatten)            (None, 2048)              0         \n",
      "_________________________________________________________________\n",
      "dense (Dense)                (None, 64)                131136    \n",
      "_________________________________________________________________\n",
      "dropout (Dropout)            (None, 64)                0         \n",
      "_________________________________________________________________\n",
      "dense_1 (Dense)              (None, 1)                 65        \n",
      "=================================================================\n",
      "Total params: 131,201\n",
      "Trainable params: 131,201\n",
      "Non-trainable params: 0\n",
      "_________________________________________________________________\n"
     ]
    }
   ],
   "source": [
    "top_model.summary()"
   ]
  },
  {
   "cell_type": "code",
   "execution_count": 8,
   "metadata": {},
   "outputs": [],
   "source": [
    "callbacks = [\n",
    "    Custom_lr()\n",
    "    ]"
   ]
  },
  {
   "cell_type": "code",
   "execution_count": 9,
   "metadata": {},
   "outputs": [
    {
     "name": "stdout",
     "output_type": "stream",
     "text": [
      "Epoch 1/35\n",
      "213/213 [==============================] - 0s 2ms/step - loss: 1.4072 - accuracy: 0.5875 - val_loss: 0.6332 - val_accuracy: 0.6786\n",
      "Epoch 2/35\n",
      "213/213 [==============================] - 0s 1ms/step - loss: 0.6074 - accuracy: 0.6659 - val_loss: 0.6189 - val_accuracy: 0.6882\n",
      "Epoch 3/35\n",
      "213/213 [==============================] - 0s 1ms/step - loss: 0.5707 - accuracy: 0.6938 - val_loss: 0.6074 - val_accuracy: 0.6967\n",
      "Epoch 4/35\n",
      "213/213 [==============================] - 0s 1ms/step - loss: 0.5358 - accuracy: 0.7159 - val_loss: 0.6281 - val_accuracy: 0.6967\n",
      "Epoch 5/35\n",
      "213/213 [==============================] - 0s 1ms/step - loss: 0.5183 - accuracy: 0.7310 - val_loss: 0.6097 - val_accuracy: 0.7012\n",
      "Epoch 6/35\n",
      "213/213 [==============================] - 0s 1ms/step - loss: 0.4839 - accuracy: 0.7443 - val_loss: 0.6149 - val_accuracy: 0.7053\n",
      "Epoch 7/35\n",
      "213/213 [==============================] - 0s 1ms/step - loss: 0.4684 - accuracy: 0.7419 - val_loss: 0.6241 - val_accuracy: 0.7094\n",
      "Epoch 8/35\n",
      "213/213 [==============================] - 0s 1ms/step - loss: 0.4560 - accuracy: 0.7603 - val_loss: 0.6320 - val_accuracy: 0.7105\n",
      "Epoch 9/35\n",
      "213/213 [==============================] - 0s 2ms/step - loss: 0.4480 - accuracy: 0.7600 - val_loss: 0.6061 - val_accuracy: 0.7163\n",
      "Epoch 10/35\n",
      "213/213 [==============================] - 0s 1ms/step - loss: 0.4155 - accuracy: 0.7765 - val_loss: 0.6617 - val_accuracy: 0.7019\n",
      "0.0003162278\n",
      "0.00031622778103685084\n",
      "Epoch 11/35\n",
      "213/213 [==============================] - 0s 1ms/step - loss: 0.3790 - accuracy: 0.7897 - val_loss: 0.6537 - val_accuracy: 0.7153\n",
      "Epoch 12/35\n",
      "213/213 [==============================] - 0s 1ms/step - loss: 0.3562 - accuracy: 0.8026 - val_loss: 0.6651 - val_accuracy: 0.7197\n",
      "Epoch 13/35\n",
      "213/213 [==============================] - 0s 1ms/step - loss: 0.3485 - accuracy: 0.8094 - val_loss: 0.6775 - val_accuracy: 0.7266\n",
      "Epoch 14/35\n",
      "213/213 [==============================] - 0s 1ms/step - loss: 0.3303 - accuracy: 0.8241 - val_loss: 0.6975 - val_accuracy: 0.7228\n",
      "Epoch 15/35\n",
      "213/213 [==============================] - 0s 1ms/step - loss: 0.3194 - accuracy: 0.8241 - val_loss: 0.7105 - val_accuracy: 0.7276\n",
      "Epoch 16/35\n",
      "213/213 [==============================] - 1s 2ms/step - loss: 0.3073 - accuracy: 0.8329 - val_loss: 0.7513 - val_accuracy: 0.7214\n",
      "Epoch 17/35\n",
      "213/213 [==============================] - 0s 1ms/step - loss: 0.3150 - accuracy: 0.8294 - val_loss: 0.7623 - val_accuracy: 0.7218\n",
      "Epoch 18/35\n",
      "213/213 [==============================] - 0s 948us/step - loss: 0.3026 - accuracy: 0.8332 - val_loss: 0.7592 - val_accuracy: 0.7208\n",
      "Epoch 19/35\n",
      "213/213 [==============================] - 1s 3ms/step - loss: 0.2889 - accuracy: 0.8375 - val_loss: 0.7830 - val_accuracy: 0.7249\n",
      "Epoch 20/35\n",
      "213/213 [==============================] - 0s 1ms/step - loss: 0.2873 - accuracy: 0.8384 - val_loss: 0.7880 - val_accuracy: 0.7221\n",
      "7.071068e-05\n",
      "7.071068264135355e-05\n",
      "Epoch 21/35\n",
      "213/213 [==============================] - 0s 962us/step - loss: 0.2763 - accuracy: 0.8459 - val_loss: 0.8106 - val_accuracy: 0.7221\n",
      "Epoch 22/35\n",
      "213/213 [==============================] - 0s 962us/step - loss: 0.2654 - accuracy: 0.8528 - val_loss: 0.8206 - val_accuracy: 0.7214\n",
      "Epoch 23/35\n",
      "213/213 [==============================] - 0s 939us/step - loss: 0.2662 - accuracy: 0.8541 - val_loss: 0.8319 - val_accuracy: 0.7221\n",
      "Epoch 24/35\n",
      "213/213 [==============================] - 0s 1ms/step - loss: 0.2579 - accuracy: 0.8575 - val_loss: 0.8458 - val_accuracy: 0.7249\n",
      "Epoch 25/35\n",
      "213/213 [==============================] - 0s 981us/step - loss: 0.2592 - accuracy: 0.8547 - val_loss: 0.8524 - val_accuracy: 0.7245\n",
      "Epoch 26/35\n",
      "213/213 [==============================] - 0s 1ms/step - loss: 0.2629 - accuracy: 0.8551 - val_loss: 0.8561 - val_accuracy: 0.7238\n",
      "Epoch 27/35\n",
      "213/213 [==============================] - 0s 944us/step - loss: 0.2583 - accuracy: 0.8588 - val_loss: 0.8628 - val_accuracy: 0.7273\n",
      "Epoch 28/35\n",
      "213/213 [==============================] - 0s 944us/step - loss: 0.2528 - accuracy: 0.8584 - val_loss: 0.8702 - val_accuracy: 0.7293\n",
      "Epoch 29/35\n",
      "213/213 [==============================] - 0s 986us/step - loss: 0.2489 - accuracy: 0.8637 - val_loss: 0.8828 - val_accuracy: 0.7280\n",
      "Epoch 30/35\n",
      "213/213 [==============================] - 0s 1ms/step - loss: 0.2404 - accuracy: 0.8688 - val_loss: 0.9004 - val_accuracy: 0.7307\n",
      "1.2909945e-05\n",
      "1.2909945018820682e-05\n",
      "Epoch 31/35\n",
      "213/213 [==============================] - 0s 986us/step - loss: 0.2433 - accuracy: 0.8638 - val_loss: 0.9009 - val_accuracy: 0.7300\n",
      "Epoch 32/35\n",
      "213/213 [==============================] - 0s 2ms/step - loss: 0.2422 - accuracy: 0.8607 - val_loss: 0.9040 - val_accuracy: 0.7307\n",
      "Epoch 33/35\n",
      "213/213 [==============================] - 0s 934us/step - loss: 0.2439 - accuracy: 0.8626 - val_loss: 0.9078 - val_accuracy: 0.7317\n",
      "Epoch 34/35\n",
      "213/213 [==============================] - 0s 977us/step - loss: 0.2431 - accuracy: 0.8631 - val_loss: 0.9116 - val_accuracy: 0.7304\n",
      "Epoch 35/35\n",
      "213/213 [==============================] - 0s 1ms/step - loss: 0.2379 - accuracy: 0.8650 - val_loss: 0.9144 - val_accuracy: 0.7304\n"
     ]
    },
    {
     "data": {
      "text/plain": [
       "<tensorflow.python.keras.callbacks.History at 0x2a883112ac0>"
      ]
     },
     "execution_count": 9,
     "metadata": {},
     "output_type": "execute_result"
    }
   ],
   "source": [
    "top_model.fit(x_train_bottleneck, y_train,\n",
    "          epochs=35,\n",
    "          batch_size=32,\n",
    "          validation_data=(x_cv_bottleneck, y_cv), callbacks=callbacks,)"
   ]
  },
  {
   "cell_type": "code",
   "execution_count": 13,
   "metadata": {},
   "outputs": [],
   "source": [
    "top_model.save('top_model_full_data_custom_lr_weights.h5') # best"
   ]
  },
  {
   "cell_type": "code",
   "execution_count": null,
   "metadata": {},
   "outputs": [],
   "source": []
  },
  {
   "cell_type": "code",
   "execution_count": 4,
   "metadata": {},
   "outputs": [],
   "source": [
    "# load VGG16\n",
    "vgg_model=applications.VGG16(weights='imagenet', include_top=False, input_shape=(64,64,3))"
   ]
  },
  {
   "cell_type": "code",
   "execution_count": 5,
   "metadata": {},
   "outputs": [],
   "source": [
    "model_aug=Sequential()\n",
    "model_aug.add(vgg_model)"
   ]
  },
  {
   "cell_type": "code",
   "execution_count": 6,
   "metadata": {},
   "outputs": [],
   "source": [
    "top_model=Sequential()\n",
    "top_model.add(Flatten(input_shape=(2, 2, 512)))\n",
    "top_model.add(Dense(64, activation='relu'))\n",
    "top_model.add(Dense(1, activation='sigmoid'))\n",
    "# top_model.load_weights('top_model_full_data_custom_lr_weights.h5')\n",
    "model_aug.add(top_model)"
   ]
  },
  {
   "cell_type": "code",
   "execution_count": 7,
   "metadata": {},
   "outputs": [],
   "source": [
    "for layer in model_aug.layers[0].layers[:17]:\n",
    "    layer.trainable=False"
   ]
  },
  {
   "cell_type": "code",
   "execution_count": 8,
   "metadata": {},
   "outputs": [],
   "source": [
    "model_aug.compile(loss='binary_crossentropy', optimizer=optimizers.Adam(lr=1e-6), metrics=['accuracy'])"
   ]
  },
  {
   "cell_type": "code",
   "execution_count": 9,
   "metadata": {},
   "outputs": [
    {
     "name": "stdout",
     "output_type": "stream",
     "text": [
      "Model: \"sequential\"\n",
      "_________________________________________________________________\n",
      "Layer (type)                 Output Shape              Param #   \n",
      "=================================================================\n",
      "vgg16 (Functional)           (None, 2, 2, 512)         14714688  \n",
      "_________________________________________________________________\n",
      "sequential_1 (Sequential)    (None, 1)                 131201    \n",
      "=================================================================\n",
      "Total params: 14,845,889\n",
      "Trainable params: 2,491,009\n",
      "Non-trainable params: 12,354,880\n",
      "_________________________________________________________________\n"
     ]
    }
   ],
   "source": [
    "model_aug.summary()"
   ]
  },
  {
   "cell_type": "code",
   "execution_count": 10,
   "metadata": {},
   "outputs": [
    {
     "name": "stdout",
     "output_type": "stream",
     "text": [
      "Epoch 1/50\n",
      "213/213 [==============================] - 59s 276ms/step - loss: 4.3042 - accuracy: 0.5169 - val_loss: 3.8630 - val_accuracy: 0.5091\n",
      "Epoch 2/50\n",
      "213/213 [==============================] - 70s 330ms/step - loss: 3.1509 - accuracy: 0.5207 - val_loss: 3.2620 - val_accuracy: 0.5187\n",
      "Epoch 3/50\n",
      "213/213 [==============================] - 61s 287ms/step - loss: 2.6352 - accuracy: 0.5399 - val_loss: 2.9010 - val_accuracy: 0.5310\n",
      "Epoch 4/50\n",
      "213/213 [==============================] - 62s 290ms/step - loss: 2.3000 - accuracy: 0.5606 - val_loss: 2.6623 - val_accuracy: 0.5455\n",
      "Epoch 5/50\n",
      "213/213 [==============================] - 57s 267ms/step - loss: 2.0533 - accuracy: 0.5740 - val_loss: 2.4946 - val_accuracy: 0.5578\n",
      "Epoch 6/50\n",
      "213/213 [==============================] - 58s 273ms/step - loss: 1.8648 - accuracy: 0.5901 - val_loss: 2.3700 - val_accuracy: 0.5626\n",
      "Epoch 7/50\n",
      "213/213 [==============================] - 60s 281ms/step - loss: 1.7128 - accuracy: 0.6028 - val_loss: 2.2734 - val_accuracy: 0.5660\n",
      "Epoch 8/50\n",
      "213/213 [==============================] - 60s 281ms/step - loss: 1.5859 - accuracy: 0.6213 - val_loss: 2.1939 - val_accuracy: 0.5715\n",
      "Epoch 9/50\n",
      "213/213 [==============================] - 60s 281ms/step - loss: 1.4746 - accuracy: 0.6326 - val_loss: 2.1280 - val_accuracy: 0.5750\n",
      "Epoch 10/50\n",
      "213/213 [==============================] - 61s 285ms/step - loss: 1.3770 - accuracy: 0.6418 - val_loss: 2.0707 - val_accuracy: 0.5760\n",
      "Epoch 11/50\n",
      "213/213 [==============================] - 60s 280ms/step - loss: 1.2901 - accuracy: 0.6516 - val_loss: 2.0205 - val_accuracy: 0.5794\n",
      "Epoch 12/50\n",
      "213/213 [==============================] - 61s 286ms/step - loss: 1.2113 - accuracy: 0.6613 - val_loss: 1.9772 - val_accuracy: 0.5825\n",
      "Epoch 13/50\n",
      "213/213 [==============================] - 63s 298ms/step - loss: 1.1400 - accuracy: 0.6709 - val_loss: 1.9374 - val_accuracy: 0.5870\n",
      "Epoch 14/50\n",
      "213/213 [==============================] - 66s 308ms/step - loss: 1.0744 - accuracy: 0.6822 - val_loss: 1.9082 - val_accuracy: 0.5904\n",
      "Epoch 15/50\n",
      "213/213 [==============================] - 61s 287ms/step - loss: 1.0143 - accuracy: 0.6910 - val_loss: 1.8754 - val_accuracy: 0.5921\n",
      "Epoch 16/50\n",
      "213/213 [==============================] - 63s 294ms/step - loss: 0.9584 - accuracy: 0.7018 - val_loss: 1.8491 - val_accuracy: 0.5928\n",
      "Epoch 17/50\n",
      "213/213 [==============================] - 59s 276ms/step - loss: 0.9063 - accuracy: 0.7118 - val_loss: 1.8240 - val_accuracy: 0.5983\n",
      "Epoch 18/50\n",
      "213/213 [==============================] - 61s 287ms/step - loss: 0.8577 - accuracy: 0.7216 - val_loss: 1.8019 - val_accuracy: 0.6010\n",
      "Epoch 19/50\n",
      "213/213 [==============================] - 63s 294ms/step - loss: 0.8127 - accuracy: 0.7300 - val_loss: 1.7800 - val_accuracy: 0.6069\n",
      "Epoch 20/50\n",
      "213/213 [==============================] - 60s 283ms/step - loss: 0.7698 - accuracy: 0.7393 - val_loss: 1.7616 - val_accuracy: 0.6041\n",
      "Epoch 21/50\n",
      "213/213 [==============================] - 59s 276ms/step - loss: 0.7300 - accuracy: 0.7488 - val_loss: 1.7441 - val_accuracy: 0.6055\n",
      "Epoch 22/50\n",
      "213/213 [==============================] - 59s 278ms/step - loss: 0.6923 - accuracy: 0.7597 - val_loss: 1.7293 - val_accuracy: 0.6082\n",
      "Epoch 23/50\n",
      "213/213 [==============================] - 60s 280ms/step - loss: 0.6574 - accuracy: 0.7669 - val_loss: 1.7130 - val_accuracy: 0.6117\n",
      "Epoch 24/50\n",
      "213/213 [==============================] - 60s 280ms/step - loss: 0.6252 - accuracy: 0.7741 - val_loss: 1.6992 - val_accuracy: 0.6123\n",
      "Epoch 25/50\n",
      "213/213 [==============================] - 58s 273ms/step - loss: 0.5942 - accuracy: 0.7824 - val_loss: 1.6861 - val_accuracy: 0.6151\n",
      "Epoch 26/50\n",
      "213/213 [==============================] - 58s 271ms/step - loss: 0.5656 - accuracy: 0.7890 - val_loss: 1.6740 - val_accuracy: 0.6165\n",
      "Epoch 27/50\n",
      "213/213 [==============================] - 58s 273ms/step - loss: 0.5388 - accuracy: 0.7976 - val_loss: 1.6636 - val_accuracy: 0.6189\n",
      "Epoch 28/50\n",
      "213/213 [==============================] - 58s 270ms/step - loss: 0.5131 - accuracy: 0.8050 - val_loss: 1.6521 - val_accuracy: 0.6206\n",
      "Epoch 29/50\n",
      "213/213 [==============================] - 57s 270ms/step - loss: 0.4895 - accuracy: 0.8119 - val_loss: 1.6423 - val_accuracy: 0.6213\n",
      "Epoch 30/50\n",
      "213/213 [==============================] - 59s 275ms/step - loss: 0.4672 - accuracy: 0.8182 - val_loss: 1.6329 - val_accuracy: 0.6240\n",
      "Epoch 31/50\n",
      "213/213 [==============================] - 61s 288ms/step - loss: 0.4463 - accuracy: 0.8240 - val_loss: 1.6222 - val_accuracy: 0.6247\n",
      "Epoch 32/50\n",
      "213/213 [==============================] - 58s 273ms/step - loss: 0.4262 - accuracy: 0.8307 - val_loss: 1.6131 - val_accuracy: 0.6244\n",
      "Epoch 33/50\n",
      "213/213 [==============================] - 58s 272ms/step - loss: 0.4079 - accuracy: 0.8385 - val_loss: 1.6077 - val_accuracy: 0.6250\n",
      "Epoch 34/50\n",
      "213/213 [==============================] - 59s 277ms/step - loss: 0.3904 - accuracy: 0.8429 - val_loss: 1.6013 - val_accuracy: 0.6268\n",
      "Epoch 35/50\n",
      "213/213 [==============================] - 58s 274ms/step - loss: 0.3739 - accuracy: 0.8513 - val_loss: 1.5929 - val_accuracy: 0.6295\n",
      "Epoch 36/50\n",
      "213/213 [==============================] - 58s 274ms/step - loss: 0.3584 - accuracy: 0.8576 - val_loss: 1.5870 - val_accuracy: 0.6309\n",
      "Epoch 37/50\n",
      "213/213 [==============================] - 58s 274ms/step - loss: 0.3439 - accuracy: 0.8651 - val_loss: 1.5806 - val_accuracy: 0.6305\n",
      "Epoch 38/50\n",
      "213/213 [==============================] - 59s 275ms/step - loss: 0.3300 - accuracy: 0.8679 - val_loss: 1.5765 - val_accuracy: 0.6309\n",
      "Epoch 39/50\n",
      "213/213 [==============================] - ETA: 0s - loss: 0.3172 - accuracy: 0.8738"
     ]
    },
    {
     "ename": "KeyboardInterrupt",
     "evalue": "",
     "output_type": "error",
     "traceback": [
      "\u001b[1;31m---------------------------------------------------------------------------\u001b[0m",
      "\u001b[1;31mKeyboardInterrupt\u001b[0m                         Traceback (most recent call last)",
      "\u001b[1;32m<ipython-input-10-c8122e78956e>\u001b[0m in \u001b[0;36m<module>\u001b[1;34m\u001b[0m\n\u001b[1;32m----> 1\u001b[1;33m \u001b[0mmodel_aug\u001b[0m\u001b[1;33m.\u001b[0m\u001b[0mfit\u001b[0m\u001b[1;33m(\u001b[0m\u001b[0mx_train\u001b[0m\u001b[1;33m,\u001b[0m \u001b[0my_train\u001b[0m\u001b[1;33m,\u001b[0m \u001b[0mepochs\u001b[0m\u001b[1;33m=\u001b[0m\u001b[1;36m50\u001b[0m\u001b[1;33m,\u001b[0m \u001b[0mbatch_size\u001b[0m\u001b[1;33m=\u001b[0m\u001b[1;36m32\u001b[0m\u001b[1;33m,\u001b[0m \u001b[0mvalidation_data\u001b[0m\u001b[1;33m=\u001b[0m\u001b[1;33m(\u001b[0m\u001b[0mx_cv\u001b[0m\u001b[1;33m,\u001b[0m \u001b[0my_cv\u001b[0m\u001b[1;33m)\u001b[0m\u001b[1;33m,\u001b[0m \u001b[0mverbose\u001b[0m\u001b[1;33m=\u001b[0m\u001b[1;36m1\u001b[0m\u001b[1;33m)\u001b[0m\u001b[1;33m\u001b[0m\u001b[1;33m\u001b[0m\u001b[0m\n\u001b[0m",
      "\u001b[1;32m~\\.conda\\envs\\RifaldyEnv\\lib\\site-packages\\tensorflow\\python\\keras\\engine\\training.py\u001b[0m in \u001b[0;36m_method_wrapper\u001b[1;34m(self, *args, **kwargs)\u001b[0m\n\u001b[0;32m    106\u001b[0m   \u001b[1;32mdef\u001b[0m \u001b[0m_method_wrapper\u001b[0m\u001b[1;33m(\u001b[0m\u001b[0mself\u001b[0m\u001b[1;33m,\u001b[0m \u001b[1;33m*\u001b[0m\u001b[0margs\u001b[0m\u001b[1;33m,\u001b[0m \u001b[1;33m**\u001b[0m\u001b[0mkwargs\u001b[0m\u001b[1;33m)\u001b[0m\u001b[1;33m:\u001b[0m\u001b[1;33m\u001b[0m\u001b[1;33m\u001b[0m\u001b[0m\n\u001b[0;32m    107\u001b[0m     \u001b[1;32mif\u001b[0m \u001b[1;32mnot\u001b[0m \u001b[0mself\u001b[0m\u001b[1;33m.\u001b[0m\u001b[0m_in_multi_worker_mode\u001b[0m\u001b[1;33m(\u001b[0m\u001b[1;33m)\u001b[0m\u001b[1;33m:\u001b[0m  \u001b[1;31m# pylint: disable=protected-access\u001b[0m\u001b[1;33m\u001b[0m\u001b[1;33m\u001b[0m\u001b[0m\n\u001b[1;32m--> 108\u001b[1;33m       \u001b[1;32mreturn\u001b[0m \u001b[0mmethod\u001b[0m\u001b[1;33m(\u001b[0m\u001b[0mself\u001b[0m\u001b[1;33m,\u001b[0m \u001b[1;33m*\u001b[0m\u001b[0margs\u001b[0m\u001b[1;33m,\u001b[0m \u001b[1;33m**\u001b[0m\u001b[0mkwargs\u001b[0m\u001b[1;33m)\u001b[0m\u001b[1;33m\u001b[0m\u001b[1;33m\u001b[0m\u001b[0m\n\u001b[0m\u001b[0;32m    109\u001b[0m \u001b[1;33m\u001b[0m\u001b[0m\n\u001b[0;32m    110\u001b[0m     \u001b[1;31m# Running inside `run_distribute_coordinator` already.\u001b[0m\u001b[1;33m\u001b[0m\u001b[1;33m\u001b[0m\u001b[1;33m\u001b[0m\u001b[0m\n",
      "\u001b[1;32m~\\.conda\\envs\\RifaldyEnv\\lib\\site-packages\\tensorflow\\python\\keras\\engine\\training.py\u001b[0m in \u001b[0;36mfit\u001b[1;34m(self, x, y, batch_size, epochs, verbose, callbacks, validation_split, validation_data, shuffle, class_weight, sample_weight, initial_epoch, steps_per_epoch, validation_steps, validation_batch_size, validation_freq, max_queue_size, workers, use_multiprocessing)\u001b[0m\n\u001b[0;32m   1121\u001b[0m                 \u001b[0mmodel\u001b[0m\u001b[1;33m=\u001b[0m\u001b[0mself\u001b[0m\u001b[1;33m,\u001b[0m\u001b[1;33m\u001b[0m\u001b[1;33m\u001b[0m\u001b[0m\n\u001b[0;32m   1122\u001b[0m                 steps_per_execution=self._steps_per_execution)\n\u001b[1;32m-> 1123\u001b[1;33m           val_logs = self.evaluate(\n\u001b[0m\u001b[0;32m   1124\u001b[0m               \u001b[0mx\u001b[0m\u001b[1;33m=\u001b[0m\u001b[0mval_x\u001b[0m\u001b[1;33m,\u001b[0m\u001b[1;33m\u001b[0m\u001b[1;33m\u001b[0m\u001b[0m\n\u001b[0;32m   1125\u001b[0m               \u001b[0my\u001b[0m\u001b[1;33m=\u001b[0m\u001b[0mval_y\u001b[0m\u001b[1;33m,\u001b[0m\u001b[1;33m\u001b[0m\u001b[1;33m\u001b[0m\u001b[0m\n",
      "\u001b[1;32m~\\.conda\\envs\\RifaldyEnv\\lib\\site-packages\\tensorflow\\python\\keras\\engine\\training.py\u001b[0m in \u001b[0;36m_method_wrapper\u001b[1;34m(self, *args, **kwargs)\u001b[0m\n\u001b[0;32m    106\u001b[0m   \u001b[1;32mdef\u001b[0m \u001b[0m_method_wrapper\u001b[0m\u001b[1;33m(\u001b[0m\u001b[0mself\u001b[0m\u001b[1;33m,\u001b[0m \u001b[1;33m*\u001b[0m\u001b[0margs\u001b[0m\u001b[1;33m,\u001b[0m \u001b[1;33m**\u001b[0m\u001b[0mkwargs\u001b[0m\u001b[1;33m)\u001b[0m\u001b[1;33m:\u001b[0m\u001b[1;33m\u001b[0m\u001b[1;33m\u001b[0m\u001b[0m\n\u001b[0;32m    107\u001b[0m     \u001b[1;32mif\u001b[0m \u001b[1;32mnot\u001b[0m \u001b[0mself\u001b[0m\u001b[1;33m.\u001b[0m\u001b[0m_in_multi_worker_mode\u001b[0m\u001b[1;33m(\u001b[0m\u001b[1;33m)\u001b[0m\u001b[1;33m:\u001b[0m  \u001b[1;31m# pylint: disable=protected-access\u001b[0m\u001b[1;33m\u001b[0m\u001b[1;33m\u001b[0m\u001b[0m\n\u001b[1;32m--> 108\u001b[1;33m       \u001b[1;32mreturn\u001b[0m \u001b[0mmethod\u001b[0m\u001b[1;33m(\u001b[0m\u001b[0mself\u001b[0m\u001b[1;33m,\u001b[0m \u001b[1;33m*\u001b[0m\u001b[0margs\u001b[0m\u001b[1;33m,\u001b[0m \u001b[1;33m**\u001b[0m\u001b[0mkwargs\u001b[0m\u001b[1;33m)\u001b[0m\u001b[1;33m\u001b[0m\u001b[1;33m\u001b[0m\u001b[0m\n\u001b[0m\u001b[0;32m    109\u001b[0m \u001b[1;33m\u001b[0m\u001b[0m\n\u001b[0;32m    110\u001b[0m     \u001b[1;31m# Running inside `run_distribute_coordinator` already.\u001b[0m\u001b[1;33m\u001b[0m\u001b[1;33m\u001b[0m\u001b[1;33m\u001b[0m\u001b[0m\n",
      "\u001b[1;32m~\\.conda\\envs\\RifaldyEnv\\lib\\site-packages\\tensorflow\\python\\keras\\engine\\training.py\u001b[0m in \u001b[0;36mevaluate\u001b[1;34m(self, x, y, batch_size, verbose, sample_weight, steps, callbacks, max_queue_size, workers, use_multiprocessing, return_dict)\u001b[0m\n\u001b[0;32m   1377\u001b[0m             \u001b[1;32mwith\u001b[0m \u001b[0mtrace\u001b[0m\u001b[1;33m.\u001b[0m\u001b[0mTrace\u001b[0m\u001b[1;33m(\u001b[0m\u001b[1;34m'TraceContext'\u001b[0m\u001b[1;33m,\u001b[0m \u001b[0mgraph_type\u001b[0m\u001b[1;33m=\u001b[0m\u001b[1;34m'test'\u001b[0m\u001b[1;33m,\u001b[0m \u001b[0mstep_num\u001b[0m\u001b[1;33m=\u001b[0m\u001b[0mstep\u001b[0m\u001b[1;33m)\u001b[0m\u001b[1;33m:\u001b[0m\u001b[1;33m\u001b[0m\u001b[1;33m\u001b[0m\u001b[0m\n\u001b[0;32m   1378\u001b[0m               \u001b[0mcallbacks\u001b[0m\u001b[1;33m.\u001b[0m\u001b[0mon_test_batch_begin\u001b[0m\u001b[1;33m(\u001b[0m\u001b[0mstep\u001b[0m\u001b[1;33m)\u001b[0m\u001b[1;33m\u001b[0m\u001b[1;33m\u001b[0m\u001b[0m\n\u001b[1;32m-> 1379\u001b[1;33m               \u001b[0mtmp_logs\u001b[0m \u001b[1;33m=\u001b[0m \u001b[0mtest_function\u001b[0m\u001b[1;33m(\u001b[0m\u001b[0miterator\u001b[0m\u001b[1;33m)\u001b[0m\u001b[1;33m\u001b[0m\u001b[1;33m\u001b[0m\u001b[0m\n\u001b[0m\u001b[0;32m   1380\u001b[0m               \u001b[1;32mif\u001b[0m \u001b[0mdata_handler\u001b[0m\u001b[1;33m.\u001b[0m\u001b[0mshould_sync\u001b[0m\u001b[1;33m:\u001b[0m\u001b[1;33m\u001b[0m\u001b[1;33m\u001b[0m\u001b[0m\n\u001b[0;32m   1381\u001b[0m                 \u001b[0mcontext\u001b[0m\u001b[1;33m.\u001b[0m\u001b[0masync_wait\u001b[0m\u001b[1;33m(\u001b[0m\u001b[1;33m)\u001b[0m\u001b[1;33m\u001b[0m\u001b[1;33m\u001b[0m\u001b[0m\n",
      "\u001b[1;32m~\\.conda\\envs\\RifaldyEnv\\lib\\site-packages\\tensorflow\\python\\eager\\def_function.py\u001b[0m in \u001b[0;36m__call__\u001b[1;34m(self, *args, **kwds)\u001b[0m\n\u001b[0;32m    778\u001b[0m       \u001b[1;32melse\u001b[0m\u001b[1;33m:\u001b[0m\u001b[1;33m\u001b[0m\u001b[1;33m\u001b[0m\u001b[0m\n\u001b[0;32m    779\u001b[0m         \u001b[0mcompiler\u001b[0m \u001b[1;33m=\u001b[0m \u001b[1;34m\"nonXla\"\u001b[0m\u001b[1;33m\u001b[0m\u001b[1;33m\u001b[0m\u001b[0m\n\u001b[1;32m--> 780\u001b[1;33m         \u001b[0mresult\u001b[0m \u001b[1;33m=\u001b[0m \u001b[0mself\u001b[0m\u001b[1;33m.\u001b[0m\u001b[0m_call\u001b[0m\u001b[1;33m(\u001b[0m\u001b[1;33m*\u001b[0m\u001b[0margs\u001b[0m\u001b[1;33m,\u001b[0m \u001b[1;33m**\u001b[0m\u001b[0mkwds\u001b[0m\u001b[1;33m)\u001b[0m\u001b[1;33m\u001b[0m\u001b[1;33m\u001b[0m\u001b[0m\n\u001b[0m\u001b[0;32m    781\u001b[0m \u001b[1;33m\u001b[0m\u001b[0m\n\u001b[0;32m    782\u001b[0m       \u001b[0mnew_tracing_count\u001b[0m \u001b[1;33m=\u001b[0m \u001b[0mself\u001b[0m\u001b[1;33m.\u001b[0m\u001b[0m_get_tracing_count\u001b[0m\u001b[1;33m(\u001b[0m\u001b[1;33m)\u001b[0m\u001b[1;33m\u001b[0m\u001b[1;33m\u001b[0m\u001b[0m\n",
      "\u001b[1;32m~\\.conda\\envs\\RifaldyEnv\\lib\\site-packages\\tensorflow\\python\\eager\\def_function.py\u001b[0m in \u001b[0;36m_call\u001b[1;34m(self, *args, **kwds)\u001b[0m\n\u001b[0;32m    812\u001b[0m       \u001b[1;31m# In this case we have not created variables on the first call. So we can\u001b[0m\u001b[1;33m\u001b[0m\u001b[1;33m\u001b[0m\u001b[1;33m\u001b[0m\u001b[0m\n\u001b[0;32m    813\u001b[0m       \u001b[1;31m# run the first trace but we should fail if variables are created.\u001b[0m\u001b[1;33m\u001b[0m\u001b[1;33m\u001b[0m\u001b[1;33m\u001b[0m\u001b[0m\n\u001b[1;32m--> 814\u001b[1;33m       \u001b[0mresults\u001b[0m \u001b[1;33m=\u001b[0m \u001b[0mself\u001b[0m\u001b[1;33m.\u001b[0m\u001b[0m_stateful_fn\u001b[0m\u001b[1;33m(\u001b[0m\u001b[1;33m*\u001b[0m\u001b[0margs\u001b[0m\u001b[1;33m,\u001b[0m \u001b[1;33m**\u001b[0m\u001b[0mkwds\u001b[0m\u001b[1;33m)\u001b[0m\u001b[1;33m\u001b[0m\u001b[1;33m\u001b[0m\u001b[0m\n\u001b[0m\u001b[0;32m    815\u001b[0m       \u001b[1;32mif\u001b[0m \u001b[0mself\u001b[0m\u001b[1;33m.\u001b[0m\u001b[0m_created_variables\u001b[0m\u001b[1;33m:\u001b[0m\u001b[1;33m\u001b[0m\u001b[1;33m\u001b[0m\u001b[0m\n\u001b[0;32m    816\u001b[0m         raise ValueError(\"Creating variables on a non-first call to a function\"\n",
      "\u001b[1;32m~\\.conda\\envs\\RifaldyEnv\\lib\\site-packages\\tensorflow\\python\\eager\\function.py\u001b[0m in \u001b[0;36m__call__\u001b[1;34m(self, *args, **kwargs)\u001b[0m\n\u001b[0;32m   2827\u001b[0m     \u001b[1;32mwith\u001b[0m \u001b[0mself\u001b[0m\u001b[1;33m.\u001b[0m\u001b[0m_lock\u001b[0m\u001b[1;33m:\u001b[0m\u001b[1;33m\u001b[0m\u001b[1;33m\u001b[0m\u001b[0m\n\u001b[0;32m   2828\u001b[0m       \u001b[0mgraph_function\u001b[0m\u001b[1;33m,\u001b[0m \u001b[0margs\u001b[0m\u001b[1;33m,\u001b[0m \u001b[0mkwargs\u001b[0m \u001b[1;33m=\u001b[0m \u001b[0mself\u001b[0m\u001b[1;33m.\u001b[0m\u001b[0m_maybe_define_function\u001b[0m\u001b[1;33m(\u001b[0m\u001b[0margs\u001b[0m\u001b[1;33m,\u001b[0m \u001b[0mkwargs\u001b[0m\u001b[1;33m)\u001b[0m\u001b[1;33m\u001b[0m\u001b[1;33m\u001b[0m\u001b[0m\n\u001b[1;32m-> 2829\u001b[1;33m     \u001b[1;32mreturn\u001b[0m \u001b[0mgraph_function\u001b[0m\u001b[1;33m.\u001b[0m\u001b[0m_filtered_call\u001b[0m\u001b[1;33m(\u001b[0m\u001b[0margs\u001b[0m\u001b[1;33m,\u001b[0m \u001b[0mkwargs\u001b[0m\u001b[1;33m)\u001b[0m  \u001b[1;31m# pylint: disable=protected-access\u001b[0m\u001b[1;33m\u001b[0m\u001b[1;33m\u001b[0m\u001b[0m\n\u001b[0m\u001b[0;32m   2830\u001b[0m \u001b[1;33m\u001b[0m\u001b[0m\n\u001b[0;32m   2831\u001b[0m   \u001b[1;33m@\u001b[0m\u001b[0mproperty\u001b[0m\u001b[1;33m\u001b[0m\u001b[1;33m\u001b[0m\u001b[0m\n",
      "\u001b[1;32m~\\.conda\\envs\\RifaldyEnv\\lib\\site-packages\\tensorflow\\python\\eager\\function.py\u001b[0m in \u001b[0;36m_filtered_call\u001b[1;34m(self, args, kwargs, cancellation_manager)\u001b[0m\n\u001b[0;32m   1841\u001b[0m       \u001b[0;31m`\u001b[0m\u001b[0margs\u001b[0m\u001b[0;31m`\u001b[0m \u001b[1;32mand\u001b[0m\u001b[0;31m \u001b[0m\u001b[0;31m`\u001b[0m\u001b[0mkwargs\u001b[0m\u001b[0;31m`\u001b[0m\u001b[1;33m.\u001b[0m\u001b[1;33m\u001b[0m\u001b[1;33m\u001b[0m\u001b[0m\n\u001b[0;32m   1842\u001b[0m     \"\"\"\n\u001b[1;32m-> 1843\u001b[1;33m     return self._call_flat(\n\u001b[0m\u001b[0;32m   1844\u001b[0m         [t for t in nest.flatten((args, kwargs), expand_composites=True)\n\u001b[0;32m   1845\u001b[0m          if isinstance(t, (ops.Tensor,\n",
      "\u001b[1;32m~\\.conda\\envs\\RifaldyEnv\\lib\\site-packages\\tensorflow\\python\\eager\\function.py\u001b[0m in \u001b[0;36m_call_flat\u001b[1;34m(self, args, captured_inputs, cancellation_manager)\u001b[0m\n\u001b[0;32m   1921\u001b[0m         and executing_eagerly):\n\u001b[0;32m   1922\u001b[0m       \u001b[1;31m# No tape is watching; skip to running the function.\u001b[0m\u001b[1;33m\u001b[0m\u001b[1;33m\u001b[0m\u001b[1;33m\u001b[0m\u001b[0m\n\u001b[1;32m-> 1923\u001b[1;33m       return self._build_call_outputs(self._inference_function.call(\n\u001b[0m\u001b[0;32m   1924\u001b[0m           ctx, args, cancellation_manager=cancellation_manager))\n\u001b[0;32m   1925\u001b[0m     forward_backward = self._select_forward_and_backward_functions(\n",
      "\u001b[1;32m~\\.conda\\envs\\RifaldyEnv\\lib\\site-packages\\tensorflow\\python\\eager\\function.py\u001b[0m in \u001b[0;36mcall\u001b[1;34m(self, ctx, args, cancellation_manager)\u001b[0m\n\u001b[0;32m    543\u001b[0m       \u001b[1;32mwith\u001b[0m \u001b[0m_InterpolateFunctionError\u001b[0m\u001b[1;33m(\u001b[0m\u001b[0mself\u001b[0m\u001b[1;33m)\u001b[0m\u001b[1;33m:\u001b[0m\u001b[1;33m\u001b[0m\u001b[1;33m\u001b[0m\u001b[0m\n\u001b[0;32m    544\u001b[0m         \u001b[1;32mif\u001b[0m \u001b[0mcancellation_manager\u001b[0m \u001b[1;32mis\u001b[0m \u001b[1;32mNone\u001b[0m\u001b[1;33m:\u001b[0m\u001b[1;33m\u001b[0m\u001b[1;33m\u001b[0m\u001b[0m\n\u001b[1;32m--> 545\u001b[1;33m           outputs = execute.execute(\n\u001b[0m\u001b[0;32m    546\u001b[0m               \u001b[0mstr\u001b[0m\u001b[1;33m(\u001b[0m\u001b[0mself\u001b[0m\u001b[1;33m.\u001b[0m\u001b[0msignature\u001b[0m\u001b[1;33m.\u001b[0m\u001b[0mname\u001b[0m\u001b[1;33m)\u001b[0m\u001b[1;33m,\u001b[0m\u001b[1;33m\u001b[0m\u001b[1;33m\u001b[0m\u001b[0m\n\u001b[0;32m    547\u001b[0m               \u001b[0mnum_outputs\u001b[0m\u001b[1;33m=\u001b[0m\u001b[0mself\u001b[0m\u001b[1;33m.\u001b[0m\u001b[0m_num_outputs\u001b[0m\u001b[1;33m,\u001b[0m\u001b[1;33m\u001b[0m\u001b[1;33m\u001b[0m\u001b[0m\n",
      "\u001b[1;32m~\\.conda\\envs\\RifaldyEnv\\lib\\site-packages\\tensorflow\\python\\eager\\execute.py\u001b[0m in \u001b[0;36mquick_execute\u001b[1;34m(op_name, num_outputs, inputs, attrs, ctx, name)\u001b[0m\n\u001b[0;32m     57\u001b[0m   \u001b[1;32mtry\u001b[0m\u001b[1;33m:\u001b[0m\u001b[1;33m\u001b[0m\u001b[1;33m\u001b[0m\u001b[0m\n\u001b[0;32m     58\u001b[0m     \u001b[0mctx\u001b[0m\u001b[1;33m.\u001b[0m\u001b[0mensure_initialized\u001b[0m\u001b[1;33m(\u001b[0m\u001b[1;33m)\u001b[0m\u001b[1;33m\u001b[0m\u001b[1;33m\u001b[0m\u001b[0m\n\u001b[1;32m---> 59\u001b[1;33m     tensors = pywrap_tfe.TFE_Py_Execute(ctx._handle, device_name, op_name,\n\u001b[0m\u001b[0;32m     60\u001b[0m                                         inputs, attrs, num_outputs)\n\u001b[0;32m     61\u001b[0m   \u001b[1;32mexcept\u001b[0m \u001b[0mcore\u001b[0m\u001b[1;33m.\u001b[0m\u001b[0m_NotOkStatusException\u001b[0m \u001b[1;32mas\u001b[0m \u001b[0me\u001b[0m\u001b[1;33m:\u001b[0m\u001b[1;33m\u001b[0m\u001b[1;33m\u001b[0m\u001b[0m\n",
      "\u001b[1;31mKeyboardInterrupt\u001b[0m: "
     ]
    }
   ],
   "source": [
    "model_aug.fit(x_train, y_train, epochs=50, batch_size=32, validation_data=(x_cv, y_cv), verbose=1)"
   ]
  },
  {
   "cell_type": "code",
   "execution_count": 30,
   "metadata": {},
   "outputs": [
    {
     "data": {
      "text/plain": [
       "768"
      ]
     },
     "execution_count": 30,
     "metadata": {},
     "output_type": "execute_result"
    }
   ],
   "source": [
    "len(model_aug.predict(x_test[1]))"
   ]
  },
  {
   "cell_type": "code",
   "execution_count": null,
   "metadata": {},
   "outputs": [],
   "source": []
  },
  {
   "cell_type": "code",
   "execution_count": 18,
   "metadata": {},
   "outputs": [],
   "source": [
    "#fake images\n",
    "allFakeResults=[]\n",
    "for i in range(10):\n",
    "    result = model_aug.predict(x_test[i])\n",
    "    allFakeResults.append(max(result))"
   ]
  },
  {
   "cell_type": "code",
   "execution_count": 19,
   "metadata": {},
   "outputs": [
    {
     "data": {
      "text/plain": [
       "[array([1.], dtype=float32),\n",
       " array([1.], dtype=float32),\n",
       " array([1.], dtype=float32),\n",
       " array([1.], dtype=float32),\n",
       " array([1.], dtype=float32),\n",
       " array([0.99983954], dtype=float32),\n",
       " array([0.99999666], dtype=float32),\n",
       " array([1.], dtype=float32),\n",
       " array([1.], dtype=float32),\n",
       " array([1.], dtype=float32)]"
      ]
     },
     "execution_count": 19,
     "metadata": {},
     "output_type": "execute_result"
    }
   ],
   "source": [
    "allFakeResults"
   ]
  },
  {
   "cell_type": "code",
   "execution_count": 20,
   "metadata": {},
   "outputs": [],
   "source": [
    "#pristine images\n",
    "allPristineResults=[]\n",
    "for i in range(10, 20):\n",
    "    result = model_aug.predict(x_test[i])\n",
    "    allPristineResults.append(max(result))"
   ]
  },
  {
   "cell_type": "code",
   "execution_count": 22,
   "metadata": {},
   "outputs": [
    {
     "data": {
      "text/plain": [
       "[array([0.9999485], dtype=float32),\n",
       " array([1.], dtype=float32),\n",
       " array([1.], dtype=float32),\n",
       " array([1.], dtype=float32),\n",
       " array([1.], dtype=float32),\n",
       " array([1.], dtype=float32),\n",
       " array([1.], dtype=float32),\n",
       " array([1.], dtype=float32),\n",
       " array([1.], dtype=float32),\n",
       " array([1.], dtype=float32)]"
      ]
     },
     "execution_count": 22,
     "metadata": {},
     "output_type": "execute_result"
    }
   ],
   "source": [
    "allPristineResults"
   ]
  },
  {
   "cell_type": "code",
   "execution_count": null,
   "metadata": {},
   "outputs": [],
   "source": []
  },
  {
   "cell_type": "code",
   "execution_count": 26,
   "metadata": {},
   "outputs": [
    {
     "data": {
      "text/plain": [
       "(682, 64, 64, 3)"
      ]
     },
     "execution_count": 26,
     "metadata": {},
     "output_type": "execute_result"
    }
   ],
   "source": [
    "x_test[0].shape"
   ]
  },
  {
   "cell_type": "code",
   "execution_count": 27,
   "metadata": {},
   "outputs": [
    {
     "data": {
      "text/plain": [
       "(64, 64, 3)"
      ]
     },
     "execution_count": 27,
     "metadata": {},
     "output_type": "execute_result"
    }
   ],
   "source": [
    "x_train[0].shape"
   ]
  },
  {
   "cell_type": "code",
   "execution_count": null,
   "metadata": {},
   "outputs": [],
   "source": []
  },
  {
   "cell_type": "code",
   "execution_count": 32,
   "metadata": {},
   "outputs": [],
   "source": [
    "#pristine images dari train data deh :\"D\n",
    "allPristineResults=[]\n",
    "for i in range(0,100,10):\n",
    "    result = model_aug.predict(x_train[i:i+10])\n",
    "    allPristineResults.append(max(result))"
   ]
  },
  {
   "cell_type": "code",
   "execution_count": 33,
   "metadata": {},
   "outputs": [
    {
     "data": {
      "text/plain": [
       "[array([0.9959935], dtype=float32),\n",
       " array([0.99995804], dtype=float32),\n",
       " array([1.], dtype=float32),\n",
       " array([0.9818442], dtype=float32),\n",
       " array([0.99775153], dtype=float32),\n",
       " array([0.9900132], dtype=float32),\n",
       " array([0.9999999], dtype=float32),\n",
       " array([1.], dtype=float32),\n",
       " array([1.], dtype=float32),\n",
       " array([0.9767355], dtype=float32)]"
      ]
     },
     "execution_count": 33,
     "metadata": {},
     "output_type": "execute_result"
    }
   ],
   "source": [
    "allPristineResults"
   ]
  },
  {
   "cell_type": "code",
   "execution_count": null,
   "metadata": {},
   "outputs": [],
   "source": []
  },
  {
   "cell_type": "code",
   "execution_count": 35,
   "metadata": {},
   "outputs": [],
   "source": [
    "#fake images\n",
    "allFakeResults=[]\n",
    "for i in range(5000,5100,10):\n",
    "    result = model_aug.predict(x_train[i:i+10])\n",
    "    allFakeResults.append(max(result))"
   ]
  },
  {
   "cell_type": "code",
   "execution_count": 36,
   "metadata": {},
   "outputs": [
    {
     "data": {
      "text/plain": [
       "[array([0.9999933], dtype=float32),\n",
       " array([0.99972486], dtype=float32),\n",
       " array([1.], dtype=float32),\n",
       " array([0.999983], dtype=float32),\n",
       " array([0.9696905], dtype=float32),\n",
       " array([0.9976498], dtype=float32),\n",
       " array([0.99992055], dtype=float32),\n",
       " array([0.99961364], dtype=float32),\n",
       " array([0.9918443], dtype=float32),\n",
       " array([0.99995595], dtype=float32)]"
      ]
     },
     "execution_count": 36,
     "metadata": {},
     "output_type": "execute_result"
    }
   ],
   "source": [
    "allFakeResults"
   ]
  }
 ],
 "metadata": {
  "kernelspec": {
   "display_name": "Python 3",
   "language": "python",
   "name": "python3"
  },
  "language_info": {
   "codemirror_mode": {
    "name": "ipython",
    "version": 3
   },
   "file_extension": ".py",
   "mimetype": "text/x-python",
   "name": "python",
   "nbconvert_exporter": "python",
   "pygments_lexer": "ipython3",
   "version": "3.8.8"
  }
 },
 "nbformat": 4,
 "nbformat_minor": 4
}
