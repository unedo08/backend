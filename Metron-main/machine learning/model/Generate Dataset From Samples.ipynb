{
 "cells": [
  {
   "cell_type": "code",
   "execution_count": 41,
   "metadata": {},
   "outputs": [],
   "source": [
    "import numpy as np\n",
    "import pickle\n",
    "from sklearn.model_selection import train_test_split\n",
    "from imageio import imread\n",
    "import os\n",
    "import math"
   ]
  },
  {
   "cell_type": "markdown",
   "metadata": {},
   "source": [
    "Training Dataset"
   ]
  },
  {
   "cell_type": "code",
   "execution_count": 2,
   "metadata": {},
   "outputs": [],
   "source": [
    "samples_pristine_grayscale = np.load('../data/sample_images/k64 grayscale 40percent stride32/samples_pristine.npy')\n",
    "samples_fake_grayscale = np.load('../data/sample_images/k64 grayscale 40percent stride32/sample_fakes_np.npy')\n",
    "\n",
    "# Concatenate authentic and fake image samples along axis=0 to generate train set for grayscale sampled images\n",
    "train_data_grayscale = np.concatenate((samples_pristine_grayscale, samples_fake_grayscale), axis=0)"
   ]
  },
  {
   "cell_type": "code",
   "execution_count": null,
   "metadata": {},
   "outputs": [],
   "source": []
  },
  {
   "cell_type": "code",
   "execution_count": 3,
   "metadata": {},
   "outputs": [
    {
     "data": {
      "text/plain": [
       "(4842, 64, 64, 3)"
      ]
     },
     "execution_count": 3,
     "metadata": {},
     "output_type": "execute_result"
    }
   ],
   "source": [
    "samples_pristine_grayscale.shape"
   ]
  },
  {
   "cell_type": "code",
   "execution_count": null,
   "metadata": {},
   "outputs": [],
   "source": []
  },
  {
   "cell_type": "code",
   "execution_count": 4,
   "metadata": {},
   "outputs": [
    {
     "data": {
      "text/plain": [
       "4842"
      ]
     },
     "execution_count": 4,
     "metadata": {},
     "output_type": "execute_result"
    }
   ],
   "source": [
    "len(samples_pristine_grayscale)"
   ]
  },
  {
   "cell_type": "code",
   "execution_count": 5,
   "metadata": {},
   "outputs": [
    {
     "data": {
      "text/plain": [
       "4873"
      ]
     },
     "execution_count": 5,
     "metadata": {},
     "output_type": "execute_result"
    }
   ],
   "source": [
    "len(samples_fake_grayscale)"
   ]
  },
  {
   "cell_type": "code",
   "execution_count": 6,
   "metadata": {},
   "outputs": [
    {
     "data": {
      "text/plain": [
       "9715"
      ]
     },
     "execution_count": 6,
     "metadata": {},
     "output_type": "execute_result"
    }
   ],
   "source": [
    "len(train_data_grayscale)"
   ]
  },
  {
   "cell_type": "code",
   "execution_count": null,
   "metadata": {},
   "outputs": [],
   "source": []
  },
  {
   "cell_type": "code",
   "execution_count": 7,
   "metadata": {},
   "outputs": [],
   "source": [
    "train_labels_grayscale = [0]*len(samples_pristine_grayscale)+[1]*len(samples_fake_grayscale)"
   ]
  },
  {
   "cell_type": "code",
   "execution_count": 8,
   "metadata": {},
   "outputs": [
    {
     "data": {
      "text/plain": [
       "9715"
      ]
     },
     "execution_count": 8,
     "metadata": {},
     "output_type": "execute_result"
    }
   ],
   "source": [
    "len(train_labels_grayscale)"
   ]
  },
  {
   "cell_type": "code",
   "execution_count": 9,
   "metadata": {},
   "outputs": [],
   "source": [
    "x_train, x_cv, y_train, y_cv = train_test_split(train_data_grayscale, train_labels_grayscale, test_size=0.3, stratify = train_labels_grayscale)"
   ]
  },
  {
   "cell_type": "code",
   "execution_count": 10,
   "metadata": {},
   "outputs": [],
   "source": [
    "if not os.path.isdir(\"dataset\"):\n",
    "    os.mkdir(\"dataset\")"
   ]
  },
  {
   "cell_type": "code",
   "execution_count": 11,
   "metadata": {},
   "outputs": [],
   "source": [
    "np.save(\"dataset/x_train_np.npy\", x_train)\n",
    "np.save(\"dataset/x_cv_np.npy\", x_cv)\n",
    "np.save(\"dataset/y_train_np.npy\", y_train)\n",
    "np.save(\"dataset/y_cv_np.npy\", y_cv)"
   ]
  },
  {
   "cell_type": "markdown",
   "metadata": {},
   "source": [
    "Test Dataset"
   ]
  },
  {
   "cell_type": "code",
   "execution_count": 12,
   "metadata": {},
   "outputs": [],
   "source": [
    "fake_path = \"../data/training/fake/\"\n",
    "pristine_path = \"../data/training/pristine/\""
   ]
  },
  {
   "cell_type": "code",
   "execution_count": 13,
   "metadata": {},
   "outputs": [],
   "source": [
    "with open('../data/pickle/images_names/x_train_fakes_names.pickle', 'rb') as f:\n",
    "    fakes_names=pickle.load(f)"
   ]
  },
  {
   "cell_type": "code",
   "execution_count": 14,
   "metadata": {},
   "outputs": [
    {
     "data": {
      "text/plain": [
       "['ca8f5bc4dfc11f10d823230e1c800caf.png',\n",
       " '729184490532feff1bea99534924c91d.png',\n",
       " 'c168467ba25e8675a50b85be4204b4b2.png',\n",
       " 'b3c8de573cfb53d7c52fa628021c49dc.png',\n",
       " 'bb7f020e3bac66c4d049b0a9d748b63c.png',\n",
       " 'a0ed4e883bd44522343ad589aadce538.png',\n",
       " 'b1a7bc9873d1ac1a9bf66426002b3722.png',\n",
       " 'bd162a474c3726de6e7b9790feb95a00.png',\n",
       " '30096e4b0cdadb88b548f4fa2aee4b95.png',\n",
       " 'e8540972740aa21638731940c3bebe42.png']"
      ]
     },
     "execution_count": 14,
     "metadata": {},
     "output_type": "execute_result"
    }
   ],
   "source": [
    "fakes_names[:10]"
   ]
  },
  {
   "cell_type": "code",
   "execution_count": 15,
   "metadata": {},
   "outputs": [],
   "source": [
    "with open('../data/pickle/images_names/x_train_pristines_names.pickle', 'rb') as f:\n",
    "    pristines_names=pickle.load(f)"
   ]
  },
  {
   "cell_type": "code",
   "execution_count": 16,
   "metadata": {},
   "outputs": [
    {
     "data": {
      "text/plain": [
       "['2de34c80144f4a4e1846777bc4b8601f.png',\n",
       " '2ee1940345456ab6d704428191515ff7.png',\n",
       " '6fd8e6b79b7a14db0ab3e465b462a8ba.png',\n",
       " '1bda780ac2a5b1c16fc57dd59cd09f11.png',\n",
       " '4e7e260603ae8e51844a177fbef8d1da.png',\n",
       " '6d414f40da3d1125d5335ee99353a379.png',\n",
       " '07a65b49129172c82600b05cd37486cf.png',\n",
       " '0ca4a6bf121ee206bf445358a7797ae5.png',\n",
       " '1dfa55b8cf72db50839fd6bc62476adb.png',\n",
       " '6a3361a9a38187153efc7e371d36200e.png']"
      ]
     },
     "execution_count": 16,
     "metadata": {},
     "output_type": "execute_result"
    }
   ],
   "source": [
    "pristines_names[:10]"
   ]
  },
  {
   "cell_type": "code",
   "execution_count": 17,
   "metadata": {},
   "outputs": [],
   "source": [
    "x_test_filenames = fakes_names[:10] + pristines_names[:10]\n",
    "y_test = [1]*10 + [0]*10"
   ]
  },
  {
   "cell_type": "code",
   "execution_count": null,
   "metadata": {},
   "outputs": [],
   "source": []
  },
  {
   "cell_type": "code",
   "execution_count": 18,
   "metadata": {},
   "outputs": [
    {
     "data": {
      "text/plain": [
       "(765, 1024, 3)"
      ]
     },
     "execution_count": 18,
     "metadata": {},
     "output_type": "execute_result"
    }
   ],
   "source": [
    "img = imread(fake_path+fakes_names[0])\n",
    "img.shape"
   ]
  },
  {
   "cell_type": "code",
   "execution_count": null,
   "metadata": {},
   "outputs": [],
   "source": []
  },
  {
   "cell_type": "code",
   "execution_count": 19,
   "metadata": {},
   "outputs": [
    {
     "data": {
      "text/plain": [
       "['ca8f5bc4dfc11f10d823230e1c800caf.png',\n",
       " '729184490532feff1bea99534924c91d.png',\n",
       " 'c168467ba25e8675a50b85be4204b4b2.png',\n",
       " 'b3c8de573cfb53d7c52fa628021c49dc.png',\n",
       " 'bb7f020e3bac66c4d049b0a9d748b63c.png',\n",
       " 'a0ed4e883bd44522343ad589aadce538.png',\n",
       " 'b1a7bc9873d1ac1a9bf66426002b3722.png',\n",
       " 'bd162a474c3726de6e7b9790feb95a00.png',\n",
       " '30096e4b0cdadb88b548f4fa2aee4b95.png',\n",
       " 'e8540972740aa21638731940c3bebe42.png',\n",
       " '2de34c80144f4a4e1846777bc4b8601f.png',\n",
       " '2ee1940345456ab6d704428191515ff7.png',\n",
       " '6fd8e6b79b7a14db0ab3e465b462a8ba.png',\n",
       " '1bda780ac2a5b1c16fc57dd59cd09f11.png',\n",
       " '4e7e260603ae8e51844a177fbef8d1da.png',\n",
       " '6d414f40da3d1125d5335ee99353a379.png',\n",
       " '07a65b49129172c82600b05cd37486cf.png',\n",
       " '0ca4a6bf121ee206bf445358a7797ae5.png',\n",
       " '1dfa55b8cf72db50839fd6bc62476adb.png',\n",
       " '6a3361a9a38187153efc7e371d36200e.png']"
      ]
     },
     "execution_count": 19,
     "metadata": {},
     "output_type": "execute_result"
    }
   ],
   "source": [
    "x_test_filenames"
   ]
  },
  {
   "cell_type": "code",
   "execution_count": 46,
   "metadata": {},
   "outputs": [],
   "source": [
    "def sample_test_image(img):\n",
    "    kernel_size=64\n",
    "    stride=32\n",
    "    i=0\n",
    "\n",
    "    \n",
    "    samples=np.ndarray(shape=(((img.shape[0] - kernel_size)//stride+1)*((img.shape[1] - kernel_size)//stride+1), 64, 64, 3), dtype=np.dtype('uint8'))\n",
    "    \n",
    "    for y_start in range(0, img.shape[0] - kernel_size + 1, stride):\n",
    "        for x_start in range(0, img.shape[1] - kernel_size + 1, stride):\n",
    "            samples[i, :, :, :] = img[y_start:y_start + kernel_size, x_start:x_start + kernel_size, :3]\n",
    "            i+=1\n",
    "    \n",
    "    return samples\n",
    "    \n",
    "    "
   ]
  },
  {
   "cell_type": "code",
   "execution_count": 29,
   "metadata": {},
   "outputs": [],
   "source": [
    "def sample_test_image(img):\n",
    "    kernel_size=64\n",
    "    stride=32\n",
    "    i=0\n",
    "\n",
    "    \n",
    "    samples=[]\n",
    "    \n",
    "    for y_start in range(0, img.shape[0] - kernel_size + 1, stride):\n",
    "        for x_start in range(0, img.shape[1] - kernel_size + 1, stride):\n",
    "            samples.append(img[y_start:y_start + kernel_size, x_start:x_start + kernel_size, :3])\n",
    "            i+=1\n",
    "    \n",
    "    return samples"
   ]
  },
  {
   "cell_type": "code",
   "execution_count": null,
   "metadata": {},
   "outputs": [],
   "source": []
  },
  {
   "cell_type": "code",
   "execution_count": 47,
   "metadata": {},
   "outputs": [],
   "source": [
    "x_test = []\n",
    "for filename in fakes_names[:10]:\n",
    "    x_test.append(sample_test_image(imread(fake_path+filename)))\n",
    "for filename in pristines_names[:10]:\n",
    "    x_test.append(sample_test_image(imread(pristine_path+filename)))"
   ]
  },
  {
   "cell_type": "code",
   "execution_count": 35,
   "metadata": {},
   "outputs": [],
   "source": [
    "imggg = imread(fake_path+fakes_names[0])"
   ]
  },
  {
   "cell_type": "code",
   "execution_count": 37,
   "metadata": {},
   "outputs": [
    {
     "data": {
      "text/plain": [
       "765"
      ]
     },
     "execution_count": 37,
     "metadata": {},
     "output_type": "execute_result"
    }
   ],
   "source": [
    "imggg.shape[0]"
   ]
  },
  {
   "cell_type": "code",
   "execution_count": 38,
   "metadata": {},
   "outputs": [
    {
     "data": {
      "text/plain": [
       "1024"
      ]
     },
     "execution_count": 38,
     "metadata": {},
     "output_type": "execute_result"
    }
   ],
   "source": [
    "imggg.shape[1]"
   ]
  },
  {
   "cell_type": "code",
   "execution_count": 43,
   "metadata": {},
   "outputs": [
    {
     "data": {
      "text/plain": [
       "21.90625"
      ]
     },
     "execution_count": 43,
     "metadata": {},
     "output_type": "execute_result"
    }
   ],
   "source": [
    "(imggg.shape[0]-64)/32"
   ]
  },
  {
   "cell_type": "code",
   "execution_count": 44,
   "metadata": {},
   "outputs": [
    {
     "data": {
      "text/plain": [
       "30.0"
      ]
     },
     "execution_count": 44,
     "metadata": {},
     "output_type": "execute_result"
    }
   ],
   "source": [
    "(imggg.shape[1] - 64)/32"
   ]
  },
  {
   "cell_type": "code",
   "execution_count": 45,
   "metadata": {},
   "outputs": [
    {
     "data": {
      "text/plain": [
       "682"
      ]
     },
     "execution_count": 45,
     "metadata": {},
     "output_type": "execute_result"
    }
   ],
   "source": [
    "((imggg.shape[0] - 64)//32+1)*((imggg.shape[1] - 64)//32+1)"
   ]
  },
  {
   "cell_type": "code",
   "execution_count": 36,
   "metadata": {},
   "outputs": [
    {
     "data": {
      "text/plain": [
       "682"
      ]
     },
     "execution_count": 36,
     "metadata": {},
     "output_type": "execute_result"
    }
   ],
   "source": [
    "x_test_2 = sample_test_image(imggg)\n",
    "len(x_test_2)"
   ]
  },
  {
   "cell_type": "code",
   "execution_count": null,
   "metadata": {},
   "outputs": [],
   "source": []
  },
  {
   "cell_type": "code",
   "execution_count": null,
   "metadata": {},
   "outputs": [],
   "source": []
  },
  {
   "cell_type": "code",
   "execution_count": 48,
   "metadata": {},
   "outputs": [],
   "source": [
    "x_test = np.array(x_test, dtype=object)"
   ]
  },
  {
   "cell_type": "code",
   "execution_count": 49,
   "metadata": {},
   "outputs": [
    {
     "data": {
      "text/plain": [
       "20"
      ]
     },
     "execution_count": 49,
     "metadata": {},
     "output_type": "execute_result"
    }
   ],
   "source": [
    "len(x_test)"
   ]
  },
  {
   "cell_type": "code",
   "execution_count": null,
   "metadata": {},
   "outputs": [],
   "source": []
  },
  {
   "cell_type": "code",
   "execution_count": 50,
   "metadata": {},
   "outputs": [
    {
     "data": {
      "text/plain": [
       "[1, 1, 1, 1, 1, 1, 1, 1, 1, 1, 0, 0, 0, 0, 0, 0, 0, 0, 0, 0]"
      ]
     },
     "execution_count": 50,
     "metadata": {},
     "output_type": "execute_result"
    }
   ],
   "source": [
    "y_test"
   ]
  },
  {
   "cell_type": "code",
   "execution_count": 51,
   "metadata": {},
   "outputs": [],
   "source": [
    "np.save(\"dataset/x_test_np.npy\", x_test)\n",
    "np.save(\"dataset/y_test_np.npy\", y_test)"
   ]
  },
  {
   "cell_type": "code",
   "execution_count": null,
   "metadata": {},
   "outputs": [],
   "source": []
  }
 ],
 "metadata": {
  "kernelspec": {
   "display_name": "Python 3",
   "language": "python",
   "name": "python3"
  },
  "language_info": {
   "codemirror_mode": {
    "name": "ipython",
    "version": 3
   },
   "file_extension": ".py",
   "mimetype": "text/x-python",
   "name": "python",
   "nbconvert_exporter": "python",
   "pygments_lexer": "ipython3",
   "version": "3.8.8"
  }
 },
 "nbformat": 4,
 "nbformat_minor": 4
}
